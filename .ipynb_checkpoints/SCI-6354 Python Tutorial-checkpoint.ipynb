{
 "cells": [
  {
   "cell_type": "markdown",
   "metadata": {
    "nbpresent": {
     "id": "5e04f6d7-c717-4364-af76-1e1bfdf5eb0e"
    },
    "slideshow": {
     "slide_type": "slide"
    }
   },
   "source": [
    "## SCI-6354 Advanced Spatial Analysis - Code to Make Sense of Big Data\n",
    "\n",
    "\n",
    "This workshop will introduce you to the basics of data management in Python, a popular high-level programming language. In particular, we will utilize the Pandas library to store and manipulate data. While learning to code is a long-term endeavor, this document aims to get you comfortable with running some of Panda's convenient built-in functions for data management.\n",
    "\n",
    "We will be using NYC's [311 Service Request dataset from 2015](https://data.cityofnewyork.us/dataset/311-Service-Requests-From-2015/57g5-etyj), in the form of a CSV text file. The file contains about 2.2 million rows of data and is about 1.5 GB — too large to comfortably use in Excel! Python will allow us to efficiently read, parse, clean and even visualize this data.\n",
    "\n",
    "Make sure to save the file to somewhere within the **same folder or directory as this notebook file.** \n",
    "\n",
    "**CONTENTS**\n",
    "\n",
    " **1. Getting Started**\n",
    " \n",
    "**2. Intro to Programming in Python:** high-level language, libraries, variables, conditionals, loops, print, functions)\n",
    "\n",
    "**3. Using Pandas:** importing, viewing, slicing, exporting a CSV\n",
    "\n",
    "**4. Big Data:** cleaning (string operations and parsing dates)\n",
    "\n",
    "**5. Optional:** pivot tables and plotting"
   ]
  },
  {
   "cell_type": "markdown",
   "metadata": {
    "nbpresent": {
     "id": "27e9e1b5-c27d-4064-ba77-482f319f1368"
    },
    "slideshow": {
     "slide_type": "skip"
    }
   },
   "source": [
    "---"
   ]
  },
  {
   "cell_type": "markdown",
   "metadata": {
    "nbpresent": {
     "id": "eef21ea0-5cd9-47fa-842c-ba8218e79b2f"
    },
    "slideshow": {
     "slide_type": "slide"
    }
   },
   "source": [
    "### 1. Getting Started\n",
    "\n",
    "Requirements will vary with your current system, but in general you will need to have:\n",
    "- [311 Service Request dataset from 2015](https://data.cityofnewyork.us/dataset/311-Service-Requests-From-2015/57g5-etyj) from NYC's Open Data portal\n",
    "- Python (v2 or v3, per your preference)\n",
    "- Jupyter Notebook and Pandas for Python\n",
    "\n",
    "\n",
    "For Python, I highly recommend installing [Anaconda](https://www.continuum.io/downloads), a free all-in-one distribution package that includes all the necessary dependencies, wrapped in neat GUI. This will significantly reduce the need to operate in Terminal or the Command Line. Anaconda can be found at [https://www.continuum.io/downloads](https://www.continuum.io/downloads).\n",
    "\n",
    "The Jupyter Notebook is a browser-based application and file format, hosted locally, that allows you to run Python in cells. Each cell is a chunk of code that can be run separately — but still share variables, functions and libraries within one file. This makes it much easier to understand what's going on, iterate on code and debug problematic code.\n",
    "\n",
    "After install, get started by opening the Navigator application and clicking on Jupyter Notebook."
   ]
  },
  {
   "cell_type": "markdown",
   "metadata": {
    "nbpresent": {
     "id": "50392e73-28fe-4ed7-83d3-e3b87dea85bb"
    },
    "slideshow": {
     "slide_type": "slide"
    }
   },
   "source": [
    "<img src=\"Navigator.png\">\n",
    "\n",
    "You'll see a terminal or command line window, but fear not! In a few moments a much friendlier web-interface will open up."
   ]
  },
  {
   "cell_type": "markdown",
   "metadata": {
    "nbpresent": {
     "id": "a4471f23-0af8-4b54-a0de-9fb54efca970"
    },
    "slideshow": {
     "slide_type": "slide"
    }
   },
   "source": [
    "<img src=\"Jupyter.png\">\n",
    "\n",
    "Navigate to the location of this notebook file (.ipynb), select the file and launch!"
   ]
  },
  {
   "cell_type": "markdown",
   "metadata": {
    "nbpresent": {
     "id": "106dfaf0-fdef-4bd3-b266-e08d65464198"
    },
    "slideshow": {
     "slide_type": "skip"
    }
   },
   "source": [
    "---"
   ]
  },
  {
   "cell_type": "markdown",
   "metadata": {
    "nbpresent": {
     "id": "8d80872e-2848-4565-8fec-de1368a98b44"
    },
    "slideshow": {
     "slide_type": "slide"
    }
   },
   "source": [
    "### 2. Intro to Programming and Python\n",
    "\n",
    "Python is a high-level language that simplifies some of the complexity of code. In some instances it can _almost_ be read like plain English. If you're familiar with C, Processing/Java or Javascript, you'll find that Python makes a lot of operations a little easier to understand and write.\n",
    "\n",
    "For those without prior coding experience, this document should help you understand how to read and tweak existing code. As we progress through this tutorial, I'll try and annotate some of what's going on. A few key fundamental principles:\n",
    "\n",
    "- __Indentation and whitespace matter__: Python logic uses indents (no need to worry about semicolons) — without proper spacing things will break!\n",
    "- __Style saves you time:__ Keep code legible and  organized! Following portions of the [PEP-8](https://www.python.org/dev/peps/pep-0008/) style guide will make your code more legible to others.\n",
    "- __Make sense:__ Take advantage of Python's human-readable syntax with descriptive variable and function names.\n",
    "- __Keep commenting:__ Leaving comments (with the # symbol) in your code will save you time when you return to it."
   ]
  },
  {
   "cell_type": "code",
   "execution_count": 1,
   "metadata": {
    "collapsed": false,
    "nbpresent": {
     "id": "ec1cc6c4-0ea6-489e-84b1-ef99212f311b"
    },
    "slideshow": {
     "slide_type": "fragment"
    }
   },
   "outputs": [
    {
     "name": "stdout",
     "output_type": "stream",
     "text": [
      "Hello\n",
      "30\n"
     ]
    }
   ],
   "source": [
    "# Welcome to Python and Jupyter Notebooks!\n",
    "# Run this cell block by clicking the run cell button or CTRL+R or SHIFT+R\n",
    "# Variable assignment\n",
    "example_number = 5\n",
    "example_text = \"Hello\"\n",
    "\n",
    "# Printing\n",
    "print example_text\n",
    "print example_number+25"
   ]
  },
  {
   "cell_type": "code",
   "execution_count": 2,
   "metadata": {
    "collapsed": false,
    "nbpresent": {
     "id": "03a9e6bf-0227-4f86-a2e5-d7fd0b584993"
    },
    "slideshow": {
     "slide_type": "fragment"
    }
   },
   "outputs": [
    {
     "name": "stdout",
     "output_type": "stream",
     "text": [
      "Counting ... 1\n",
      "Counting ... 2\n",
      "Counting ... 3\n",
      "Counting ... 4\n",
      "Counting ... 5\n",
      "Counting ... 6\n",
      "Counting ... 7\n",
      "Counting ... 8\n",
      "Counting ... 9\n",
      "Counting ... 10\n",
      "Done!\n"
     ]
    },
    {
     "data": {
      "text/plain": [
       "100"
      ]
     },
     "execution_count": 2,
     "metadata": {},
     "output_type": "execute_result"
    }
   ],
   "source": [
    "# Functions\n",
    "def example_function(repeats):\n",
    "    for repeat in range(repeats+1):         # Loops\n",
    "        if repeat != repeats:               # Conditionals\n",
    "            print \"Counting ...\", repeat+1\n",
    "        else:\n",
    "            print \"Done!\"\n",
    "    return repeats*10\n",
    "        \n",
    "result = example_function(10)\n",
    "result"
   ]
  },
  {
   "cell_type": "markdown",
   "metadata": {
    "nbpresent": {
     "id": "3c0f36aa-1c3c-4520-8f83-ecb7bc402a99"
    }
   },
   "source": [
    "___"
   ]
  },
  {
   "cell_type": "markdown",
   "metadata": {
    "nbpresent": {
     "id": "26270c78-1774-4343-918f-37ae2e1107e7"
    }
   },
   "source": [
    "### 3. Using Pandas\n",
    "\n",
    "Pandas is a fantastic library for data. It provides a wide range of pre-built functions that enable all sorts of manipulations on large datasets. It is rapidly becoming essential to data science and other quantitative fields, as its data structures can be used with other libraries for visualization, analysis and modeling (from linear regressions to more complex machine learning algorithms!).\n",
    "\n",
    "I'll try and go through some key functions, but for further help:\n",
    "\n",
    "- __Read the docs:__ Always refer to the [Pandas documentation](http://pandas.pydata.org/pandas-docs/stable/) to understand functions and their expected arguments. Also, the summarized [Pandas cookbook](http://pandas.pydata.org/pandas-docs/stable/cookbook.html#cookbook-csv) can sometimes be more direct!\n",
    "- __Short tutorials:__ Chris Albon has a [great website](https://chrisalbon.com) full of quick articles on specific Pandas operations\n",
    "- __Longer tutorials:__ For those with some time, Brandon Rhode's [2.5-hour introduction](https://www.youtube.com/watch?v=5JnMutdy6Fw) and accompanying [tutorials](https://github.com/brandon-rhodes/pycon-pandas-tutorial) are probably the best way to learn correctly!"
   ]
  },
  {
   "cell_type": "markdown",
   "metadata": {
    "nbpresent": {
     "id": "4573e60c-9691-4abd-bb10-cd798d8ec3c9"
    }
   },
   "source": [
    "**Importing libraries**\n",
    "\n",
    "While you've installed Pandas, you will always need to import Pandas into a Python script.  We do this with:\n",
    "\n",
    "    import pandas as pd\n",
    "\n",
    "This both imports the library and creates the shorthand \"pd\" to make it easier to access. In general, Pandas and a few other libraries are imported this way by established convention."
   ]
  },
  {
   "cell_type": "code",
   "execution_count": 3,
   "metadata": {
    "collapsed": true,
    "nbpresent": {
     "id": "c10c00e8-bb8d-4a11-9f3a-26671f1759ff"
    }
   },
   "outputs": [],
   "source": [
    "# Let's begin by importing pandas\n",
    "import pandas as pd\n",
    "\n",
    "# Also import some other libraries we may use later.\n",
    "import numpy as np"
   ]
  },
  {
   "cell_type": "markdown",
   "metadata": {
    "nbpresent": {
     "id": "8d2b7772-92a4-4b05-a08b-614dec8ce825"
    }
   },
   "source": [
    "**Loading from a file to a data frame**\n",
    "\n",
    "Before we deal with big data, let's use a subset of the 311 data to understand Pandas. We'll do this with our first Pandas function:\n",
    "    \n",
    "    pd.read_csv()\n",
    "\n",
    "The function reads a text file into Python and converts it into a Pandas data frame - a _m_ x _n_ table. It can take many arguments or inputs, but the most important ones are:\n",
    "\n",
    "- **filepath** the path to the data in question\n",
    "- **sep** or **delimiter** the separation character, defaults to a comma but can be changed if you have a TSV\n",
    "- **nrows** the number of rows\n",
    "\n",
    "There are additional arguments you can include to do things like parse dates, set data types or handle null values. Pandas also includes functions for directly importing Excel files to a data frame; you can also manually construct data frames. \n",
    "\n",
    "We want to use this function to load our data _and_ save it to a Python variable. Let's try it — but since loading all 2 million rows would take some time, let's first attempt it on 1,000 rows."
   ]
  },
  {
   "cell_type": "code",
   "execution_count": 4,
   "metadata": {
    "collapsed": false,
    "nbpresent": {
     "id": "2ae5db10-1ae5-4244-b367-135a8bb8ad25"
    }
   },
   "outputs": [
    {
     "name": "stdout",
     "output_type": "stream",
     "text": [
      "Done loading the data frame!\n"
     ]
    }
   ],
   "source": [
    "# Quickly open just the first 10,000 rows of the CSV file\n",
    "# We will store the result of the function in a variable called \"preview\"\n",
    "preview = pd.read_csv(\"Data/311_Service_Requests_from_2015.csv\",\n",
    "                      nrows=100)\n",
    "\n",
    "print \"Done loading the data frame!\""
   ]
  },
  {
   "cell_type": "markdown",
   "metadata": {
    "nbpresent": {
     "id": "6360d2f1-9015-49ad-85bf-4634a6f9af4f"
    }
   },
   "source": [
    "**Viewing the data**\n",
    "\n",
    "Great - your data has been loaded into a variable as a data frame. But how do you know what's inside? Before operating on data, always check it out! Pandas offers a variety of properties and methods to quickly view this data. You can access them by adding a period and the property or method name after the data frame variable, i.e.:\n",
    "\n",
    "    data_frame_variable.property\n",
    "    data_frame_variable.method()\n",
    "\n",
    "\n",
    "Make sure you **pay attention to parentheses** — they distinguish between a property and a method, and the code won't work with or without, depending.\n",
    "\n",
    "Some essential properties and methods are:\n",
    "\n",
    "- **shape** gives you dimensions\n",
    "- **columns** does what it says on the tin\n",
    "- **index** does what it says on the tin\n",
    "- **values** directly exposes the raw data\n",
    "- **head()** or **tail()** gives you the first or last 5 rows, by default. Changing the number argument inside gives you a specific number rows. \n",
    "\n",
    "More advanced but very useful are:\n",
    "\n",
    "- **describe()** gives you quick summary statistics\n",
    "- **info()** gives you a summary of data frame dimensions, column names and data types\n",
    "\n",
    "\n",
    "Let's try to explore the excerpted 311 data. Keep in mind that Jupyter Notebook will automatically display the last line of a cell. Can you get a list of all columns?"
   ]
  },
  {
   "cell_type": "code",
   "execution_count": 5,
   "metadata": {
    "collapsed": false,
    "nbpresent": {
     "id": "0f9e8670-c1e1-439d-b779-11eea4297326"
    }
   },
   "outputs": [
    {
     "data": {
      "text/plain": [
       "(100, 53)"
      ]
     },
     "execution_count": 5,
     "metadata": {},
     "output_type": "execute_result"
    }
   ],
   "source": [
    "# Quick preview of the data frame\n",
    "preview.shape"
   ]
  },
  {
   "cell_type": "code",
   "execution_count": 6,
   "metadata": {
    "collapsed": false,
    "nbpresent": {
     "id": "aaee196a-4312-4868-bc57-8971f6358f7f"
    }
   },
   "outputs": [
    {
     "name": "stdout",
     "output_type": "stream",
     "text": [
      "The data is 100  rows by  53  columns.\n"
     ]
    }
   ],
   "source": [
    "# We can also save the results of method or property to a variable\n",
    "dimensions = preview.shape\n",
    "\n",
    "print \"The data is\", dimensions[0], \" rows by \", dimensions[1], \" columns.\""
   ]
  },
  {
   "cell_type": "markdown",
   "metadata": {
    "nbpresent": {
     "id": "3f5b8db3-7ef1-4e87-b955-e0c7885b114f"
    }
   },
   "source": [
    "**Selecting data**\n",
    "\n",
    "Now that you now what's inside the data frame, we can access specific sections of it. Pandas offers many ways to do this!\n",
    "\n",
    "You can return a specific column via:\n",
    "\n",
    "    data_frame_variable[\"column name\"]\n",
    "    data_frame_variable[column number]\n",
    "\n",
    "Return a range of rows via:\n",
    "\n",
    "    data_frame_variable[start row : end row]\n",
    "    \n",
    "Select a slice via:\n",
    "\n",
    "    data_frame_variable.loc[row labels, column labels]\n",
    "    data_frame_variable.iloc[row integer positions, column integer positions]\n",
    "    data_frame_variable.xs[row integer positions, column integer positions]\n",
    "    data_frame_variable.ix[row integer positions, column integer positions]\n",
    "\n",
    "Remember that Python is zero-indexed. These are better understood in practice!A few quick notes:\n",
    "\n",
    "- **.loc** gives you a slice along both rows and columns whenever you have either all labels or mixed labels and position integers\n",
    "- **.iloc** does the same, but only with integer positions"
   ]
  },
  {
   "cell_type": "markdown",
   "metadata": {
    "nbpresent": {
     "id": "1a6da9f7-d700-4044-8a79-82d529f8e10a"
    }
   },
   "source": [
    "**Selecting data**\n",
    "\n",
    "Now that you now what's inside the data frame, we can access specific sections of it. Pandas offers many ways to do this!\n",
    "\n",
    "You can return a specific column via:\n",
    "\n",
    "    data_frame_variable[\"column name\"]\n",
    "    data_frame_variable[column number]\n",
    "\n",
    "Return a range of rows via:\n",
    "\n",
    "    data_frame_variable[start row : end row]\n",
    "    \n",
    "Select a slice via:\n",
    "\n",
    "    data_frame_variable.loc[row labels, column labels]\n",
    "    data_frame_variable.iloc[row integer positions, column integer positions]\n",
    "    data_frame_variable.xs[row integer positions, column integer positions]\n",
    "    data_frame_variable.ix[row integer positions, column integer positions]\n",
    "\n",
    "Remember that Python is zero-indexed. These are better understood in practice!A few quick notes:\n",
    "\n",
    "- **.loc** gives you a slice along both rows and columns whenever you have either all labels or mixed labels and position integers\n",
    "- **.iloc** does the same, but only with integer positions"
   ]
  },
  {
   "cell_type": "code",
   "execution_count": 7,
   "metadata": {
    "collapsed": false,
    "nbpresent": {
     "id": "fd3cee53-990c-40be-8d4b-78d749dc24b8"
    }
   },
   "outputs": [
    {
     "data": {
      "text/html": [
       "<div>\n",
       "<table border=\"1\" class=\"dataframe\">\n",
       "  <thead>\n",
       "    <tr style=\"text-align: right;\">\n",
       "      <th></th>\n",
       "      <th>Complaint Type</th>\n",
       "      <th>Agency</th>\n",
       "    </tr>\n",
       "  </thead>\n",
       "  <tbody>\n",
       "    <tr>\n",
       "      <th>0</th>\n",
       "      <td>Consumer Complaint</td>\n",
       "      <td>DCA</td>\n",
       "    </tr>\n",
       "    <tr>\n",
       "      <th>1</th>\n",
       "      <td>Vending</td>\n",
       "      <td>NYPD</td>\n",
       "    </tr>\n",
       "    <tr>\n",
       "      <th>2</th>\n",
       "      <td>Blocked Driveway</td>\n",
       "      <td>NYPD</td>\n",
       "    </tr>\n",
       "    <tr>\n",
       "      <th>3</th>\n",
       "      <td>Noise - Commercial</td>\n",
       "      <td>NYPD</td>\n",
       "    </tr>\n",
       "    <tr>\n",
       "      <th>4</th>\n",
       "      <td>Noise - Street/Sidewalk</td>\n",
       "      <td>NYPD</td>\n",
       "    </tr>\n",
       "    <tr>\n",
       "      <th>5</th>\n",
       "      <td>Standing Water</td>\n",
       "      <td>DOHMH</td>\n",
       "    </tr>\n",
       "    <tr>\n",
       "      <th>6</th>\n",
       "      <td>Root/Sewer/Sidewalk Condition</td>\n",
       "      <td>DPR</td>\n",
       "    </tr>\n",
       "    <tr>\n",
       "      <th>7</th>\n",
       "      <td>Standing Water</td>\n",
       "      <td>DOHMH</td>\n",
       "    </tr>\n",
       "    <tr>\n",
       "      <th>8</th>\n",
       "      <td>Consumer Complaint</td>\n",
       "      <td>DCA</td>\n",
       "    </tr>\n",
       "    <tr>\n",
       "      <th>9</th>\n",
       "      <td>Noise - Street/Sidewalk</td>\n",
       "      <td>NYPD</td>\n",
       "    </tr>\n",
       "    <tr>\n",
       "      <th>10</th>\n",
       "      <td>Overgrown Tree/Branches</td>\n",
       "      <td>DPR</td>\n",
       "    </tr>\n",
       "  </tbody>\n",
       "</table>\n",
       "</div>"
      ],
      "text/plain": [
       "                   Complaint Type Agency\n",
       "0              Consumer Complaint    DCA\n",
       "1                         Vending   NYPD\n",
       "2                Blocked Driveway   NYPD\n",
       "3              Noise - Commercial   NYPD\n",
       "4         Noise - Street/Sidewalk   NYPD\n",
       "5                  Standing Water  DOHMH\n",
       "6   Root/Sewer/Sidewalk Condition    DPR\n",
       "7                  Standing Water  DOHMH\n",
       "8              Consumer Complaint    DCA\n",
       "9         Noise - Street/Sidewalk   NYPD\n",
       "10        Overgrown Tree/Branches    DPR"
      ]
     },
     "execution_count": 7,
     "metadata": {},
     "output_type": "execute_result"
    }
   ],
   "source": [
    "# Get the responsible city agencies for the 311 call for the first 10 rows\n",
    "preview.loc[0:10,[\"Complaint Type\", \"Agency\"]]"
   ]
  },
  {
   "cell_type": "markdown",
   "metadata": {
    "nbpresent": {
     "id": "d5546eac-53d7-41cd-8b30-cbf0ba8484dc"
    }
   },
   "source": [
    "**Filtering data**\n",
    "\n",
    "Pandas also lets you filter data with Booleans. For filtering, you can combine the selection methods above with a conditional, in the form:\n",
    "\n",
    "    data_frame_variable[data_frame_variable[selection] + logical test]]\n",
    "    \n",
    "It looks a bit redundant, but what this is actually doing is selecting all rows based on a mask — an array of True and False values. You'll see this for yourself if you run just the conditional statement. In theory, you could filter data with any mask of the right length.\n",
    "  \n",
    "Conditionals can work with both numbers and text (i.e. integer, float and string data types). Some useful operators for numeric values are:\n",
    "\n",
    "- **==** equals\n",
    "- **>**  greater than\n",
    "- **<**  less than or equal\n",
    "- **>=** greater than or equal\n",
    "- **<=** less than or equal\n",
    "\n",
    "Some useful operators for string values are:\n",
    "\n",
    "- **isin()**\n",
    "- **str.contains()**\n",
    "- **str.startswith()**\n",
    "- **str.endswith()**\n",
    "\n",
    "Generally useful:\n",
    "\n",
    "- **isnull()**\n",
    "- **notnull()**\n",
    "\n",
    "If you _really_ want to get compicated, you can apply multiple conditions by enclosing each individual statement with parenthesis, and combining those statements with the symbols for and and or ( **&** and **|** ), for example:\n",
    "\n",
    "    data_frame_variable[(conditional 1) & (conditional 2)]"
   ]
  },
  {
   "cell_type": "code",
   "execution_count": 8,
   "metadata": {
    "collapsed": false,
    "nbpresent": {
     "id": "fb23044c-403b-4bca-ab08-2a8513f001ed"
    }
   },
   "outputs": [
    {
     "data": {
      "text/html": [
       "<div>\n",
       "<table border=\"1\" class=\"dataframe\">\n",
       "  <thead>\n",
       "    <tr style=\"text-align: right;\">\n",
       "      <th></th>\n",
       "      <th>Unique Key</th>\n",
       "      <th>Created Date</th>\n",
       "      <th>Closed Date</th>\n",
       "      <th>Agency</th>\n",
       "      <th>Agency Name</th>\n",
       "      <th>Complaint Type</th>\n",
       "      <th>Descriptor</th>\n",
       "      <th>Location Type</th>\n",
       "      <th>Incident Zip</th>\n",
       "      <th>Incident Address</th>\n",
       "      <th>...</th>\n",
       "      <th>Bridge Highway Name</th>\n",
       "      <th>Bridge Highway Direction</th>\n",
       "      <th>Road Ramp</th>\n",
       "      <th>Bridge Highway Segment</th>\n",
       "      <th>Garage Lot Name</th>\n",
       "      <th>Ferry Direction</th>\n",
       "      <th>Ferry Terminal Name</th>\n",
       "      <th>Latitude</th>\n",
       "      <th>Longitude</th>\n",
       "      <th>Location</th>\n",
       "    </tr>\n",
       "  </thead>\n",
       "  <tbody>\n",
       "    <tr>\n",
       "      <th>6</th>\n",
       "      <td>31043076</td>\n",
       "      <td>07/09/2015 12:04:06 PM</td>\n",
       "      <td>NaN</td>\n",
       "      <td>DPR</td>\n",
       "      <td>Department of Parks and Recreation</td>\n",
       "      <td>Root/Sewer/Sidewalk Condition</td>\n",
       "      <td>Trees and Sidewalks Program</td>\n",
       "      <td>Street</td>\n",
       "      <td>10469.0</td>\n",
       "      <td>3344 PEARSALL AVENUE</td>\n",
       "      <td>...</td>\n",
       "      <td>NaN</td>\n",
       "      <td>NaN</td>\n",
       "      <td>NaN</td>\n",
       "      <td>NaN</td>\n",
       "      <td>NaN</td>\n",
       "      <td>NaN</td>\n",
       "      <td>NaN</td>\n",
       "      <td>40.873552</td>\n",
       "      <td>-73.851666</td>\n",
       "      <td>(40.8735519638795, -73.85166629554799)</td>\n",
       "    </tr>\n",
       "    <tr>\n",
       "      <th>10</th>\n",
       "      <td>31495596</td>\n",
       "      <td>09/09/2015 12:12:46 PM</td>\n",
       "      <td>12/15/2015 02:07:21 PM</td>\n",
       "      <td>DPR</td>\n",
       "      <td>Department of Parks and Recreation</td>\n",
       "      <td>Overgrown Tree/Branches</td>\n",
       "      <td>Hitting Power/Phone Lines</td>\n",
       "      <td>Street</td>\n",
       "      <td>11412.0</td>\n",
       "      <td>197-16 LINDEN BOULEVARD</td>\n",
       "      <td>...</td>\n",
       "      <td>NaN</td>\n",
       "      <td>NaN</td>\n",
       "      <td>NaN</td>\n",
       "      <td>NaN</td>\n",
       "      <td>NaN</td>\n",
       "      <td>NaN</td>\n",
       "      <td>NaN</td>\n",
       "      <td>40.693751</td>\n",
       "      <td>-73.754719</td>\n",
       "      <td>(40.693751390945614, -73.7547190161349)</td>\n",
       "    </tr>\n",
       "    <tr>\n",
       "      <th>11</th>\n",
       "      <td>31593923</td>\n",
       "      <td>09/22/2015 01:50:05 PM</td>\n",
       "      <td>NaN</td>\n",
       "      <td>DPR</td>\n",
       "      <td>Department of Parks and Recreation</td>\n",
       "      <td>Root/Sewer/Sidewalk Condition</td>\n",
       "      <td>Affecting Sewer or Foundation</td>\n",
       "      <td>Street</td>\n",
       "      <td>11413.0</td>\n",
       "      <td>139-02 SOUTHGATE PLAZA</td>\n",
       "      <td>...</td>\n",
       "      <td>NaN</td>\n",
       "      <td>NaN</td>\n",
       "      <td>NaN</td>\n",
       "      <td>NaN</td>\n",
       "      <td>NaN</td>\n",
       "      <td>NaN</td>\n",
       "      <td>NaN</td>\n",
       "      <td>40.673440</td>\n",
       "      <td>-73.758456</td>\n",
       "      <td>(40.67343967153766, -73.75845642658422)</td>\n",
       "    </tr>\n",
       "    <tr>\n",
       "      <th>13</th>\n",
       "      <td>31593599</td>\n",
       "      <td>09/22/2015 03:07:51 PM</td>\n",
       "      <td>NaN</td>\n",
       "      <td>DPR</td>\n",
       "      <td>Department of Parks and Recreation</td>\n",
       "      <td>Overgrown Tree/Branches</td>\n",
       "      <td>Hitting Power/Phone Lines</td>\n",
       "      <td>Street</td>\n",
       "      <td>11001.0</td>\n",
       "      <td>86-15 262 STREET</td>\n",
       "      <td>...</td>\n",
       "      <td>NaN</td>\n",
       "      <td>NaN</td>\n",
       "      <td>NaN</td>\n",
       "      <td>NaN</td>\n",
       "      <td>NaN</td>\n",
       "      <td>NaN</td>\n",
       "      <td>NaN</td>\n",
       "      <td>40.733555</td>\n",
       "      <td>-73.704955</td>\n",
       "      <td>(40.7335546067691, -73.704954968102)</td>\n",
       "    </tr>\n",
       "    <tr>\n",
       "      <th>26</th>\n",
       "      <td>31591848</td>\n",
       "      <td>09/22/2015 08:51:13 PM</td>\n",
       "      <td>02/16/2016 01:44:34 PM</td>\n",
       "      <td>DPR</td>\n",
       "      <td>Department of Parks and Recreation</td>\n",
       "      <td>Illegal Tree Damage</td>\n",
       "      <td>Unauthorized Tree Removal</td>\n",
       "      <td>NaN</td>\n",
       "      <td>11378.0</td>\n",
       "      <td>5310 69TH ST</td>\n",
       "      <td>...</td>\n",
       "      <td>NaN</td>\n",
       "      <td>NaN</td>\n",
       "      <td>NaN</td>\n",
       "      <td>NaN</td>\n",
       "      <td>NaN</td>\n",
       "      <td>NaN</td>\n",
       "      <td>NaN</td>\n",
       "      <td>40.731155</td>\n",
       "      <td>-73.896021</td>\n",
       "      <td>(40.731154603318835, -73.8960206506641)</td>\n",
       "    </tr>\n",
       "    <tr>\n",
       "      <th>27</th>\n",
       "      <td>31593561</td>\n",
       "      <td>09/22/2015 10:29:56 AM</td>\n",
       "      <td>10/13/2015 11:01:42 AM</td>\n",
       "      <td>DPR</td>\n",
       "      <td>Department of Parks and Recreation</td>\n",
       "      <td>Damaged Tree</td>\n",
       "      <td>Branch Cracked and Will Fall</td>\n",
       "      <td>Street</td>\n",
       "      <td>11364.0</td>\n",
       "      <td>53-48 BELL BOULEVARD</td>\n",
       "      <td>...</td>\n",
       "      <td>NaN</td>\n",
       "      <td>NaN</td>\n",
       "      <td>NaN</td>\n",
       "      <td>NaN</td>\n",
       "      <td>NaN</td>\n",
       "      <td>NaN</td>\n",
       "      <td>NaN</td>\n",
       "      <td>40.751748</td>\n",
       "      <td>-73.763532</td>\n",
       "      <td>(40.75174757106758, -73.76353224937567)</td>\n",
       "    </tr>\n",
       "    <tr>\n",
       "      <th>29</th>\n",
       "      <td>31591347</td>\n",
       "      <td>09/22/2015 01:06:44 PM</td>\n",
       "      <td>11/11/2015 01:34:37 PM</td>\n",
       "      <td>DPR</td>\n",
       "      <td>Department of Parks and Recreation</td>\n",
       "      <td>Root/Sewer/Sidewalk Condition</td>\n",
       "      <td>Trees and Sidewalks Program</td>\n",
       "      <td>Street</td>\n",
       "      <td>11358.0</td>\n",
       "      <td>35-27 171 STREET</td>\n",
       "      <td>...</td>\n",
       "      <td>NaN</td>\n",
       "      <td>NaN</td>\n",
       "      <td>NaN</td>\n",
       "      <td>NaN</td>\n",
       "      <td>NaN</td>\n",
       "      <td>NaN</td>\n",
       "      <td>NaN</td>\n",
       "      <td>40.764134</td>\n",
       "      <td>-73.794967</td>\n",
       "      <td>(40.764134495293504, -73.79496691492976)</td>\n",
       "    </tr>\n",
       "    <tr>\n",
       "      <th>31</th>\n",
       "      <td>31594659</td>\n",
       "      <td>09/22/2015 09:05:40 AM</td>\n",
       "      <td>11/27/2015 12:25:29 PM</td>\n",
       "      <td>DPR</td>\n",
       "      <td>Department of Parks and Recreation</td>\n",
       "      <td>Damaged Tree</td>\n",
       "      <td>Tree Alive - in Poor Condition</td>\n",
       "      <td>Street</td>\n",
       "      <td>11429.0</td>\n",
       "      <td>223-29 113 DRIVE</td>\n",
       "      <td>...</td>\n",
       "      <td>NaN</td>\n",
       "      <td>NaN</td>\n",
       "      <td>NaN</td>\n",
       "      <td>NaN</td>\n",
       "      <td>NaN</td>\n",
       "      <td>NaN</td>\n",
       "      <td>NaN</td>\n",
       "      <td>40.702478</td>\n",
       "      <td>-73.733974</td>\n",
       "      <td>(40.702477623959254, -73.7339741977541)</td>\n",
       "    </tr>\n",
       "  </tbody>\n",
       "</table>\n",
       "<p>8 rows × 53 columns</p>\n",
       "</div>"
      ],
      "text/plain": [
       "    Unique Key            Created Date             Closed Date Agency  \\\n",
       "6     31043076  07/09/2015 12:04:06 PM                     NaN    DPR   \n",
       "10    31495596  09/09/2015 12:12:46 PM  12/15/2015 02:07:21 PM    DPR   \n",
       "11    31593923  09/22/2015 01:50:05 PM                     NaN    DPR   \n",
       "13    31593599  09/22/2015 03:07:51 PM                     NaN    DPR   \n",
       "26    31591848  09/22/2015 08:51:13 PM  02/16/2016 01:44:34 PM    DPR   \n",
       "27    31593561  09/22/2015 10:29:56 AM  10/13/2015 11:01:42 AM    DPR   \n",
       "29    31591347  09/22/2015 01:06:44 PM  11/11/2015 01:34:37 PM    DPR   \n",
       "31    31594659  09/22/2015 09:05:40 AM  11/27/2015 12:25:29 PM    DPR   \n",
       "\n",
       "                           Agency Name                 Complaint Type  \\\n",
       "6   Department of Parks and Recreation  Root/Sewer/Sidewalk Condition   \n",
       "10  Department of Parks and Recreation        Overgrown Tree/Branches   \n",
       "11  Department of Parks and Recreation  Root/Sewer/Sidewalk Condition   \n",
       "13  Department of Parks and Recreation        Overgrown Tree/Branches   \n",
       "26  Department of Parks and Recreation            Illegal Tree Damage   \n",
       "27  Department of Parks and Recreation                   Damaged Tree   \n",
       "29  Department of Parks and Recreation  Root/Sewer/Sidewalk Condition   \n",
       "31  Department of Parks and Recreation                   Damaged Tree   \n",
       "\n",
       "                        Descriptor Location Type  Incident Zip  \\\n",
       "6      Trees and Sidewalks Program        Street       10469.0   \n",
       "10       Hitting Power/Phone Lines        Street       11412.0   \n",
       "11   Affecting Sewer or Foundation        Street       11413.0   \n",
       "13       Hitting Power/Phone Lines        Street       11001.0   \n",
       "26       Unauthorized Tree Removal           NaN       11378.0   \n",
       "27    Branch Cracked and Will Fall        Street       11364.0   \n",
       "29     Trees and Sidewalks Program        Street       11358.0   \n",
       "31  Tree Alive - in Poor Condition        Street       11429.0   \n",
       "\n",
       "           Incident Address                    ...                     \\\n",
       "6      3344 PEARSALL AVENUE                    ...                      \n",
       "10  197-16 LINDEN BOULEVARD                    ...                      \n",
       "11   139-02 SOUTHGATE PLAZA                    ...                      \n",
       "13         86-15 262 STREET                    ...                      \n",
       "26             5310 69TH ST                    ...                      \n",
       "27     53-48 BELL BOULEVARD                    ...                      \n",
       "29         35-27 171 STREET                    ...                      \n",
       "31         223-29 113 DRIVE                    ...                      \n",
       "\n",
       "   Bridge Highway Name Bridge Highway Direction Road Ramp  \\\n",
       "6                  NaN                      NaN       NaN   \n",
       "10                 NaN                      NaN       NaN   \n",
       "11                 NaN                      NaN       NaN   \n",
       "13                 NaN                      NaN       NaN   \n",
       "26                 NaN                      NaN       NaN   \n",
       "27                 NaN                      NaN       NaN   \n",
       "29                 NaN                      NaN       NaN   \n",
       "31                 NaN                      NaN       NaN   \n",
       "\n",
       "   Bridge Highway Segment Garage Lot Name Ferry Direction Ferry Terminal Name  \\\n",
       "6                     NaN             NaN             NaN                 NaN   \n",
       "10                    NaN             NaN             NaN                 NaN   \n",
       "11                    NaN             NaN             NaN                 NaN   \n",
       "13                    NaN             NaN             NaN                 NaN   \n",
       "26                    NaN             NaN             NaN                 NaN   \n",
       "27                    NaN             NaN             NaN                 NaN   \n",
       "29                    NaN             NaN             NaN                 NaN   \n",
       "31                    NaN             NaN             NaN                 NaN   \n",
       "\n",
       "     Latitude  Longitude                                  Location  \n",
       "6   40.873552 -73.851666    (40.8735519638795, -73.85166629554799)  \n",
       "10  40.693751 -73.754719   (40.693751390945614, -73.7547190161349)  \n",
       "11  40.673440 -73.758456   (40.67343967153766, -73.75845642658422)  \n",
       "13  40.733555 -73.704955      (40.7335546067691, -73.704954968102)  \n",
       "26  40.731155 -73.896021   (40.731154603318835, -73.8960206506641)  \n",
       "27  40.751748 -73.763532   (40.75174757106758, -73.76353224937567)  \n",
       "29  40.764134 -73.794967  (40.764134495293504, -73.79496691492976)  \n",
       "31  40.702478 -73.733974   (40.702477623959254, -73.7339741977541)  \n",
       "\n",
       "[8 rows x 53 columns]"
      ]
     },
     "execution_count": 8,
     "metadata": {},
     "output_type": "execute_result"
    }
   ],
   "source": [
    "# Can you filter for all DPR releated complaints in the Bronx and Queens?\n",
    "preview[((preview[\"Borough\"]==\"BRONX\")\n",
    "         | (preview[\"Borough\"]==\"QUEENS\"))\n",
    "         & (preview[\"Agency\"]==\"DPR\")]"
   ]
  },
  {
   "cell_type": "markdown",
   "metadata": {
    "nbpresent": {
     "id": "c50696a8-fede-49c8-ae40-835297e0bd32"
    }
   },
   "source": [
    "**Summary operations**\n",
    "\n",
    "Pandas also gives us simple access to summary operations on data frames.\n",
    "\n",
    "- **value_counts()**\n",
    "- **unique()**\n",
    "- **max()**\n",
    "- **min()**\n",
    "- **mean()**\n",
    "- **median()**\n",
    "- **mode()**"
   ]
  },
  {
   "cell_type": "code",
   "execution_count": 9,
   "metadata": {
    "collapsed": false,
    "nbpresent": {
     "id": "fc053170-8225-48f6-9e93-086d68b20a6b"
    }
   },
   "outputs": [
    {
     "data": {
      "text/plain": [
       "NYPD     61\n",
       "DPR      13\n",
       "DOT      11\n",
       "DCA       4\n",
       "DOHMH     4\n",
       "HRA       2\n",
       "HPD       2\n",
       "DOF       1\n",
       "DOB       1\n",
       "DSNY      1\n",
       "Name: Agency, dtype: int64"
      ]
     },
     "execution_count": 9,
     "metadata": {},
     "output_type": "execute_result"
    }
   ],
   "source": [
    "# Let's get the number of complaints by agency\n",
    "preview[\"Agency\"].value_counts()"
   ]
  },
  {
   "cell_type": "markdown",
   "metadata": {
    "nbpresent": {
     "id": "12efcfad-212b-4086-b09e-4f60a38c2f13"
    }
   },
   "source": [
    "**Export data**\n",
    "\n",
    "Last but not least, we can get data out of Python as a CSV or an Excel file, by supplying a path as an argument.\n",
    "\n",
    "- **to_csv()** \n",
    "- **to_excel()** "
   ]
  },
  {
   "cell_type": "code",
   "execution_count": 10,
   "metadata": {
    "collapsed": true,
    "nbpresent": {
     "id": "5aa57bb1-e932-4b26-966e-ac6d3bf51708"
    }
   },
   "outputs": [],
   "source": [
    "# Here's an example file!\n",
    "preview.to_csv(\"example.csv\")"
   ]
  },
  {
   "cell_type": "markdown",
   "metadata": {
    "nbpresent": {
     "id": "2f58dafb-d03e-4700-bbd6-d7f87d975c05"
    }
   },
   "source": [
    "---"
   ]
  },
  {
   "cell_type": "markdown",
   "metadata": {
    "nbpresent": {
     "id": "cbbea608-0c16-4dc7-9962-c3e89a99eee1"
    }
   },
   "source": [
    "### 4. Real Big Data\n",
    "\n",
    "Now that we've seen what Pandas can do, let's give it a shot on the real thing. It may take a moment to load the full 311 dataset, so go ahead and run the cell below this one.\n",
    "\n",
    "With the full dataset at our disposal, we're going to try a select only noise-related complaints over a specific time frame. We will then export a smaller file with coordinates, suitable for use in other applications: Excel, GIS, Rhino or CartoDB. Here's the general workflow:\n",
    "\n",
    "- import the data\n",
    "- view the data\n",
    "- filter and clean the data\n",
    "- export the data"
   ]
  },
  {
   "cell_type": "code",
   "execution_count": 11,
   "metadata": {
    "collapsed": false,
    "nbpresent": {
     "id": "330f9c1f-a526-422c-865d-080b88404007"
    }
   },
   "outputs": [
    {
     "name": "stderr",
     "output_type": "stream",
     "text": [
      "/Applications/anaconda2/lib/python2.7/site-packages/IPython/core/interactiveshell.py:2723: DtypeWarning: Columns (8,17,40,41,42,43,44,45,46,47,48,49) have mixed types. Specify dtype option on import or set low_memory=False.\n",
      "  interactivity=interactivity, compiler=compiler, result=result)\n"
     ]
    },
    {
     "name": "stdout",
     "output_type": "stream",
     "text": [
      "(2282093, 53)\n"
     ]
    },
    {
     "data": {
      "text/html": [
       "<div>\n",
       "<table border=\"1\" class=\"dataframe\">\n",
       "  <thead>\n",
       "    <tr style=\"text-align: right;\">\n",
       "      <th></th>\n",
       "      <th>Unique Key</th>\n",
       "      <th>Created Date</th>\n",
       "      <th>Closed Date</th>\n",
       "      <th>Agency</th>\n",
       "      <th>Agency Name</th>\n",
       "      <th>Complaint Type</th>\n",
       "      <th>Descriptor</th>\n",
       "      <th>Location Type</th>\n",
       "      <th>Incident Zip</th>\n",
       "      <th>Incident Address</th>\n",
       "      <th>...</th>\n",
       "      <th>Bridge Highway Name</th>\n",
       "      <th>Bridge Highway Direction</th>\n",
       "      <th>Road Ramp</th>\n",
       "      <th>Bridge Highway Segment</th>\n",
       "      <th>Garage Lot Name</th>\n",
       "      <th>Ferry Direction</th>\n",
       "      <th>Ferry Terminal Name</th>\n",
       "      <th>Latitude</th>\n",
       "      <th>Longitude</th>\n",
       "      <th>Location</th>\n",
       "    </tr>\n",
       "  </thead>\n",
       "  <tbody>\n",
       "    <tr>\n",
       "      <th>0</th>\n",
       "      <td>31015465</td>\n",
       "      <td>07/06/2015 10:58:27 AM</td>\n",
       "      <td>07/22/2015 01:07:20 AM</td>\n",
       "      <td>DCA</td>\n",
       "      <td>Department of Consumer Affairs</td>\n",
       "      <td>Consumer Complaint</td>\n",
       "      <td>Demand for Cash</td>\n",
       "      <td>NaN</td>\n",
       "      <td>11360</td>\n",
       "      <td>27-16 203 STREET</td>\n",
       "      <td>...</td>\n",
       "      <td>NaN</td>\n",
       "      <td>NaN</td>\n",
       "      <td>NaN</td>\n",
       "      <td>NaN</td>\n",
       "      <td>NaN</td>\n",
       "      <td>NaN</td>\n",
       "      <td>NaN</td>\n",
       "      <td>40.773540</td>\n",
       "      <td>-73.788237</td>\n",
       "      <td>(40.773539552542, -73.78823697228408)</td>\n",
       "    </tr>\n",
       "    <tr>\n",
       "      <th>1</th>\n",
       "      <td>30997660</td>\n",
       "      <td>07/03/2015 01:26:29 PM</td>\n",
       "      <td>07/03/2015 02:08:20 PM</td>\n",
       "      <td>NYPD</td>\n",
       "      <td>New York City Police Department</td>\n",
       "      <td>Vending</td>\n",
       "      <td>In Prohibited Area</td>\n",
       "      <td>Residential Building/House</td>\n",
       "      <td>10019</td>\n",
       "      <td>200 CENTRAL PARK SOUTH</td>\n",
       "      <td>...</td>\n",
       "      <td>NaN</td>\n",
       "      <td>NaN</td>\n",
       "      <td>NaN</td>\n",
       "      <td>NaN</td>\n",
       "      <td>NaN</td>\n",
       "      <td>NaN</td>\n",
       "      <td>NaN</td>\n",
       "      <td>40.767021</td>\n",
       "      <td>-73.979448</td>\n",
       "      <td>(40.76702142171206, -73.97944780718524)</td>\n",
       "    </tr>\n",
       "    <tr>\n",
       "      <th>2</th>\n",
       "      <td>31950223</td>\n",
       "      <td>11/09/2015 03:55:09 AM</td>\n",
       "      <td>11/09/2015 08:08:57 AM</td>\n",
       "      <td>NYPD</td>\n",
       "      <td>New York City Police Department</td>\n",
       "      <td>Blocked Driveway</td>\n",
       "      <td>No Access</td>\n",
       "      <td>Street/Sidewalk</td>\n",
       "      <td>10453</td>\n",
       "      <td>1993 GRAND AVENUE</td>\n",
       "      <td>...</td>\n",
       "      <td>NaN</td>\n",
       "      <td>NaN</td>\n",
       "      <td>NaN</td>\n",
       "      <td>NaN</td>\n",
       "      <td>NaN</td>\n",
       "      <td>NaN</td>\n",
       "      <td>NaN</td>\n",
       "      <td>40.852671</td>\n",
       "      <td>-73.910608</td>\n",
       "      <td>(40.85267061877697, -73.91060771362552)</td>\n",
       "    </tr>\n",
       "    <tr>\n",
       "      <th>3</th>\n",
       "      <td>31000038</td>\n",
       "      <td>07/03/2015 02:18:32 AM</td>\n",
       "      <td>07/03/2015 07:54:48 AM</td>\n",
       "      <td>NYPD</td>\n",
       "      <td>New York City Police Department</td>\n",
       "      <td>Noise - Commercial</td>\n",
       "      <td>Loud Music/Party</td>\n",
       "      <td>Club/Bar/Restaurant</td>\n",
       "      <td>11372</td>\n",
       "      <td>84-16 NORTHERN BOULEVARD</td>\n",
       "      <td>...</td>\n",
       "      <td>NaN</td>\n",
       "      <td>NaN</td>\n",
       "      <td>NaN</td>\n",
       "      <td>NaN</td>\n",
       "      <td>NaN</td>\n",
       "      <td>NaN</td>\n",
       "      <td>NaN</td>\n",
       "      <td>40.755774</td>\n",
       "      <td>-73.883262</td>\n",
       "      <td>(40.755773786469966, -73.88326243225418)</td>\n",
       "    </tr>\n",
       "    <tr>\n",
       "      <th>4</th>\n",
       "      <td>30995614</td>\n",
       "      <td>07/04/2015 12:03:27 AM</td>\n",
       "      <td>07/04/2015 03:33:09 AM</td>\n",
       "      <td>NYPD</td>\n",
       "      <td>New York City Police Department</td>\n",
       "      <td>Noise - Street/Sidewalk</td>\n",
       "      <td>Loud Talking</td>\n",
       "      <td>Street/Sidewalk</td>\n",
       "      <td>11216</td>\n",
       "      <td>1057 BERGEN STREET</td>\n",
       "      <td>...</td>\n",
       "      <td>NaN</td>\n",
       "      <td>NaN</td>\n",
       "      <td>NaN</td>\n",
       "      <td>NaN</td>\n",
       "      <td>NaN</td>\n",
       "      <td>NaN</td>\n",
       "      <td>NaN</td>\n",
       "      <td>40.676175</td>\n",
       "      <td>-73.951269</td>\n",
       "      <td>(40.67617516102934, -73.9512690004692)</td>\n",
       "    </tr>\n",
       "  </tbody>\n",
       "</table>\n",
       "<p>5 rows × 53 columns</p>\n",
       "</div>"
      ],
      "text/plain": [
       "   Unique Key            Created Date             Closed Date Agency  \\\n",
       "0    31015465  07/06/2015 10:58:27 AM  07/22/2015 01:07:20 AM    DCA   \n",
       "1    30997660  07/03/2015 01:26:29 PM  07/03/2015 02:08:20 PM   NYPD   \n",
       "2    31950223  11/09/2015 03:55:09 AM  11/09/2015 08:08:57 AM   NYPD   \n",
       "3    31000038  07/03/2015 02:18:32 AM  07/03/2015 07:54:48 AM   NYPD   \n",
       "4    30995614  07/04/2015 12:03:27 AM  07/04/2015 03:33:09 AM   NYPD   \n",
       "\n",
       "                       Agency Name           Complaint Type  \\\n",
       "0   Department of Consumer Affairs       Consumer Complaint   \n",
       "1  New York City Police Department                  Vending   \n",
       "2  New York City Police Department         Blocked Driveway   \n",
       "3  New York City Police Department       Noise - Commercial   \n",
       "4  New York City Police Department  Noise - Street/Sidewalk   \n",
       "\n",
       "           Descriptor               Location Type Incident Zip  \\\n",
       "0     Demand for Cash                         NaN        11360   \n",
       "1  In Prohibited Area  Residential Building/House        10019   \n",
       "2           No Access             Street/Sidewalk        10453   \n",
       "3    Loud Music/Party         Club/Bar/Restaurant        11372   \n",
       "4        Loud Talking             Street/Sidewalk        11216   \n",
       "\n",
       "           Incident Address                    ...                     \\\n",
       "0          27-16 203 STREET                    ...                      \n",
       "1    200 CENTRAL PARK SOUTH                    ...                      \n",
       "2         1993 GRAND AVENUE                    ...                      \n",
       "3  84-16 NORTHERN BOULEVARD                    ...                      \n",
       "4        1057 BERGEN STREET                    ...                      \n",
       "\n",
       "  Bridge Highway Name Bridge Highway Direction Road Ramp  \\\n",
       "0                 NaN                      NaN       NaN   \n",
       "1                 NaN                      NaN       NaN   \n",
       "2                 NaN                      NaN       NaN   \n",
       "3                 NaN                      NaN       NaN   \n",
       "4                 NaN                      NaN       NaN   \n",
       "\n",
       "  Bridge Highway Segment Garage Lot Name Ferry Direction Ferry Terminal Name  \\\n",
       "0                    NaN             NaN             NaN                 NaN   \n",
       "1                    NaN             NaN             NaN                 NaN   \n",
       "2                    NaN             NaN             NaN                 NaN   \n",
       "3                    NaN             NaN             NaN                 NaN   \n",
       "4                    NaN             NaN             NaN                 NaN   \n",
       "\n",
       "    Latitude  Longitude                                  Location  \n",
       "0  40.773540 -73.788237     (40.773539552542, -73.78823697228408)  \n",
       "1  40.767021 -73.979448   (40.76702142171206, -73.97944780718524)  \n",
       "2  40.852671 -73.910608   (40.85267061877697, -73.91060771362552)  \n",
       "3  40.755774 -73.883262  (40.755773786469966, -73.88326243225418)  \n",
       "4  40.676175 -73.951269    (40.67617516102934, -73.9512690004692)  \n",
       "\n",
       "[5 rows x 53 columns]"
      ]
     },
     "execution_count": 11,
     "metadata": {},
     "output_type": "execute_result"
    }
   ],
   "source": [
    "# Load the data from CSV to data frame ... will be slow and memory dependent\n",
    "data = pd.read_csv(\"Data/311_Service_Requests_from_2015.csv\")\n",
    "\n",
    "# How big is the full data?\n",
    "print data.shape\n",
    "\n",
    "# Preview as a data frame\n",
    "data.head()"
   ]
  },
  {
   "cell_type": "code",
   "execution_count": 12,
   "metadata": {
    "collapsed": false,
    "nbpresent": {
     "id": "7a7940ec-5ca1-40c7-badb-c0a054479149"
    }
   },
   "outputs": [
    {
     "data": {
      "text/plain": [
       "HEAT/HOT WATER            225083\n",
       "Noise - Residential       207390\n",
       "Street Condition          124257\n",
       "Blocked Driveway          100569\n",
       "Street Light Condition     98027\n",
       "Illegal Parking            92434\n",
       "UNSANITARY CONDITION       82740\n",
       "Water System               71009\n",
       "PAINT/PLASTER              69571\n",
       "Noise                      57294\n",
       "Name: Complaint Type, dtype: int64"
      ]
     },
     "execution_count": 12,
     "metadata": {},
     "output_type": "execute_result"
    }
   ],
   "source": [
    "# Let's identify the 10 most common complaints:\n",
    "data[\"Complaint Type\"].value_counts().head(10)"
   ]
  },
  {
   "cell_type": "code",
   "execution_count": 13,
   "metadata": {
    "collapsed": false,
    "nbpresent": {
     "id": "609ce4c2-32ad-4072-925f-4ab663726e28"
    }
   },
   "outputs": [
    {
     "data": {
      "text/plain": [
       "heat/hot water            225083\n",
       "noise - residential       207390\n",
       "street condition          124257\n",
       "blocked driveway          100569\n",
       "street light condition     98027\n",
       "illegal parking            92434\n",
       "unsanitary condition       82740\n",
       "water system               71009\n",
       "paint/plaster              69571\n",
       "plumbing                   59947\n",
       "Name: Complaint Type, dtype: int64"
      ]
     },
     "execution_count": 13,
     "metadata": {},
     "output_type": "execute_result"
    }
   ],
   "source": [
    "# Notice the mixed cases in the complaints - this will complicate string operations.\n",
    "# Let's format all the complaint types to lowercase for convenience when searching\n",
    "data['Complaint Type'] = data['Complaint Type'].str.lower()\n",
    "\n",
    "# Now identify the 25 most common complaints:\n",
    "data[\"Complaint Type\"].value_counts().head(10)"
   ]
  },
  {
   "cell_type": "code",
   "execution_count": 14,
   "metadata": {
    "collapsed": false,
    "nbpresent": {
     "id": "91953e69-2a60-4a26-97b3-72edc8c076cc"
    }
   },
   "outputs": [
    {
     "data": {
      "text/plain": [
       "(386510, 53)"
      ]
     },
     "execution_count": 14,
     "metadata": {},
     "output_type": "execute_result"
    }
   ],
   "source": [
    "# Extract all noise-related complaints with a filter\n",
    "# Save the results to a new data frame\n",
    "noise_data = data[data[\"Complaint Type\"].str.contains(\"noise\")]\n",
    "noise_data.shape"
   ]
  },
  {
   "cell_type": "code",
   "execution_count": 15,
   "metadata": {
    "collapsed": false,
    "nbpresent": {
     "id": "1ad95476-3557-4b77-b02b-63b429a751d1"
    }
   },
   "outputs": [
    {
     "data": {
      "text/html": [
       "<div>\n",
       "<table border=\"1\" class=\"dataframe\">\n",
       "  <thead>\n",
       "    <tr style=\"text-align: right;\">\n",
       "      <th></th>\n",
       "      <th>Unique Key</th>\n",
       "      <th>Created Date</th>\n",
       "      <th>Closed Date</th>\n",
       "      <th>Agency</th>\n",
       "      <th>Agency Name</th>\n",
       "      <th>Complaint Type</th>\n",
       "      <th>Descriptor</th>\n",
       "      <th>Location Type</th>\n",
       "      <th>Incident Zip</th>\n",
       "      <th>Incident Address</th>\n",
       "      <th>...</th>\n",
       "      <th>Bridge Highway Name</th>\n",
       "      <th>Bridge Highway Direction</th>\n",
       "      <th>Road Ramp</th>\n",
       "      <th>Bridge Highway Segment</th>\n",
       "      <th>Garage Lot Name</th>\n",
       "      <th>Ferry Direction</th>\n",
       "      <th>Ferry Terminal Name</th>\n",
       "      <th>Latitude</th>\n",
       "      <th>Longitude</th>\n",
       "      <th>Location</th>\n",
       "    </tr>\n",
       "  </thead>\n",
       "  <tbody>\n",
       "    <tr>\n",
       "      <th>3</th>\n",
       "      <td>31000038</td>\n",
       "      <td>07/03/2015 02:18:32 AM</td>\n",
       "      <td>07/03/2015 07:54:48 AM</td>\n",
       "      <td>NYPD</td>\n",
       "      <td>New York City Police Department</td>\n",
       "      <td>noise - commercial</td>\n",
       "      <td>Loud Music/Party</td>\n",
       "      <td>Club/Bar/Restaurant</td>\n",
       "      <td>11372</td>\n",
       "      <td>84-16 NORTHERN BOULEVARD</td>\n",
       "      <td>...</td>\n",
       "      <td>NaN</td>\n",
       "      <td>NaN</td>\n",
       "      <td>NaN</td>\n",
       "      <td>NaN</td>\n",
       "      <td>NaN</td>\n",
       "      <td>NaN</td>\n",
       "      <td>NaN</td>\n",
       "      <td>40.755774</td>\n",
       "      <td>-73.883262</td>\n",
       "      <td>(40.755773786469966, -73.88326243225418)</td>\n",
       "    </tr>\n",
       "    <tr>\n",
       "      <th>4</th>\n",
       "      <td>30995614</td>\n",
       "      <td>07/04/2015 12:03:27 AM</td>\n",
       "      <td>07/04/2015 03:33:09 AM</td>\n",
       "      <td>NYPD</td>\n",
       "      <td>New York City Police Department</td>\n",
       "      <td>noise - street/sidewalk</td>\n",
       "      <td>Loud Talking</td>\n",
       "      <td>Street/Sidewalk</td>\n",
       "      <td>11216</td>\n",
       "      <td>1057 BERGEN STREET</td>\n",
       "      <td>...</td>\n",
       "      <td>NaN</td>\n",
       "      <td>NaN</td>\n",
       "      <td>NaN</td>\n",
       "      <td>NaN</td>\n",
       "      <td>NaN</td>\n",
       "      <td>NaN</td>\n",
       "      <td>NaN</td>\n",
       "      <td>40.676175</td>\n",
       "      <td>-73.951269</td>\n",
       "      <td>(40.67617516102934, -73.9512690004692)</td>\n",
       "    </tr>\n",
       "    <tr>\n",
       "      <th>9</th>\n",
       "      <td>31492526</td>\n",
       "      <td>09/09/2015 09:59:03 PM</td>\n",
       "      <td>09/09/2015 11:17:39 PM</td>\n",
       "      <td>NYPD</td>\n",
       "      <td>New York City Police Department</td>\n",
       "      <td>noise - street/sidewalk</td>\n",
       "      <td>Loud Talking</td>\n",
       "      <td>Street/Sidewalk</td>\n",
       "      <td>11238</td>\n",
       "      <td>238 SAINT JAMES PLACE</td>\n",
       "      <td>...</td>\n",
       "      <td>NaN</td>\n",
       "      <td>NaN</td>\n",
       "      <td>NaN</td>\n",
       "      <td>NaN</td>\n",
       "      <td>NaN</td>\n",
       "      <td>NaN</td>\n",
       "      <td>NaN</td>\n",
       "      <td>40.683308</td>\n",
       "      <td>-73.963775</td>\n",
       "      <td>(40.68330795503152, -73.96377504548408)</td>\n",
       "    </tr>\n",
       "    <tr>\n",
       "      <th>14</th>\n",
       "      <td>30502370</td>\n",
       "      <td>04/28/2015 06:26:58 PM</td>\n",
       "      <td>04/28/2015 07:29:34 PM</td>\n",
       "      <td>NYPD</td>\n",
       "      <td>New York City Police Department</td>\n",
       "      <td>noise - commercial</td>\n",
       "      <td>Car/Truck Music</td>\n",
       "      <td>Store/Commercial</td>\n",
       "      <td>10035</td>\n",
       "      <td>1911 MADISON AVENUE</td>\n",
       "      <td>...</td>\n",
       "      <td>NaN</td>\n",
       "      <td>NaN</td>\n",
       "      <td>NaN</td>\n",
       "      <td>NaN</td>\n",
       "      <td>NaN</td>\n",
       "      <td>NaN</td>\n",
       "      <td>NaN</td>\n",
       "      <td>40.804617</td>\n",
       "      <td>-73.941505</td>\n",
       "      <td>(40.80461674564084, -73.9415053197214)</td>\n",
       "    </tr>\n",
       "    <tr>\n",
       "      <th>19</th>\n",
       "      <td>30668699</td>\n",
       "      <td>05/21/2015 07:01:52 PM</td>\n",
       "      <td>05/21/2015 09:56:29 PM</td>\n",
       "      <td>NYPD</td>\n",
       "      <td>New York City Police Department</td>\n",
       "      <td>noise - street/sidewalk</td>\n",
       "      <td>Loud Talking</td>\n",
       "      <td>Street/Sidewalk</td>\n",
       "      <td>10026</td>\n",
       "      <td>8 WEST 111 STREET</td>\n",
       "      <td>...</td>\n",
       "      <td>NaN</td>\n",
       "      <td>NaN</td>\n",
       "      <td>NaN</td>\n",
       "      <td>NaN</td>\n",
       "      <td>NaN</td>\n",
       "      <td>NaN</td>\n",
       "      <td>NaN</td>\n",
       "      <td>40.797731</td>\n",
       "      <td>-73.949399</td>\n",
       "      <td>(40.79773121644539, -73.94939942634502)</td>\n",
       "    </tr>\n",
       "  </tbody>\n",
       "</table>\n",
       "<p>5 rows × 53 columns</p>\n",
       "</div>"
      ],
      "text/plain": [
       "    Unique Key            Created Date             Closed Date Agency  \\\n",
       "3     31000038  07/03/2015 02:18:32 AM  07/03/2015 07:54:48 AM   NYPD   \n",
       "4     30995614  07/04/2015 12:03:27 AM  07/04/2015 03:33:09 AM   NYPD   \n",
       "9     31492526  09/09/2015 09:59:03 PM  09/09/2015 11:17:39 PM   NYPD   \n",
       "14    30502370  04/28/2015 06:26:58 PM  04/28/2015 07:29:34 PM   NYPD   \n",
       "19    30668699  05/21/2015 07:01:52 PM  05/21/2015 09:56:29 PM   NYPD   \n",
       "\n",
       "                        Agency Name           Complaint Type  \\\n",
       "3   New York City Police Department       noise - commercial   \n",
       "4   New York City Police Department  noise - street/sidewalk   \n",
       "9   New York City Police Department  noise - street/sidewalk   \n",
       "14  New York City Police Department       noise - commercial   \n",
       "19  New York City Police Department  noise - street/sidewalk   \n",
       "\n",
       "          Descriptor        Location Type Incident Zip  \\\n",
       "3   Loud Music/Party  Club/Bar/Restaurant        11372   \n",
       "4       Loud Talking      Street/Sidewalk        11216   \n",
       "9       Loud Talking      Street/Sidewalk        11238   \n",
       "14   Car/Truck Music     Store/Commercial        10035   \n",
       "19      Loud Talking      Street/Sidewalk        10026   \n",
       "\n",
       "            Incident Address                    ...                     \\\n",
       "3   84-16 NORTHERN BOULEVARD                    ...                      \n",
       "4         1057 BERGEN STREET                    ...                      \n",
       "9      238 SAINT JAMES PLACE                    ...                      \n",
       "14       1911 MADISON AVENUE                    ...                      \n",
       "19         8 WEST 111 STREET                    ...                      \n",
       "\n",
       "   Bridge Highway Name Bridge Highway Direction Road Ramp  \\\n",
       "3                  NaN                      NaN       NaN   \n",
       "4                  NaN                      NaN       NaN   \n",
       "9                  NaN                      NaN       NaN   \n",
       "14                 NaN                      NaN       NaN   \n",
       "19                 NaN                      NaN       NaN   \n",
       "\n",
       "   Bridge Highway Segment Garage Lot Name Ferry Direction Ferry Terminal Name  \\\n",
       "3                     NaN             NaN             NaN                 NaN   \n",
       "4                     NaN             NaN             NaN                 NaN   \n",
       "9                     NaN             NaN             NaN                 NaN   \n",
       "14                    NaN             NaN             NaN                 NaN   \n",
       "19                    NaN             NaN             NaN                 NaN   \n",
       "\n",
       "     Latitude  Longitude                                  Location  \n",
       "3   40.755774 -73.883262  (40.755773786469966, -73.88326243225418)  \n",
       "4   40.676175 -73.951269    (40.67617516102934, -73.9512690004692)  \n",
       "9   40.683308 -73.963775   (40.68330795503152, -73.96377504548408)  \n",
       "14  40.804617 -73.941505    (40.80461674564084, -73.9415053197214)  \n",
       "19  40.797731 -73.949399   (40.79773121644539, -73.94939942634502)  \n",
       "\n",
       "[5 rows x 53 columns]"
      ]
     },
     "execution_count": 15,
     "metadata": {},
     "output_type": "execute_result"
    }
   ],
   "source": [
    "# Can I select by a time?\n",
    "noise_data[noise_data[\"Created Date\"] > 20151201].head()"
   ]
  },
  {
   "cell_type": "code",
   "execution_count": 16,
   "metadata": {
    "collapsed": false,
    "nbpresent": {
     "id": "2bdeacd8-55dc-4f4e-b3e1-4d210e6718cb"
    }
   },
   "outputs": [
    {
     "data": {
      "text/plain": [
       "dtype('O')"
      ]
     },
     "execution_count": 16,
     "metadata": {},
     "output_type": "execute_result"
    }
   ],
   "source": [
    "# It looks like the \"Created Date\" and \"Closed Date\" columns contain strings, not actual dates.\n",
    "noise_data[\"Created Date\"].dtype"
   ]
  },
  {
   "cell_type": "code",
   "execution_count": 17,
   "metadata": {
    "collapsed": false,
    "nbpresent": {
     "id": "ad66bf50-df19-4f5c-aa41-849883425851"
    }
   },
   "outputs": [],
   "source": [
    "# While Pandas has a built in date parser (pd.to_datetime), it spends time interpreting each date string.\n",
    "# This gets slow on big datasets — we'll need to write a custom parser.\n",
    "import datetime\n",
    "\n",
    "# custom datetime converter\n",
    "# faster because it builds unique set of parsed dates and saves duplicates for reuse via lookup\n",
    "# note that we utilize the utility functions defined below\n",
    "def custom_datetime_lookup(df):\n",
    "    dates = {date:custom_to_datetime(date) for date in df.unique()}\n",
    "    return df.map(dates)\n",
    "\n",
    "# custom datetime parsing from string of format \"MM/DD/YYYY HH:MM:SS\"\n",
    "# faster (by about 6x) because it performs string operations on known format\n",
    "def custom_to_datetime(val):\n",
    "    if val == val and val != \"nan\" and val: # error handling\n",
    "        return datetime.datetime(\n",
    "        int(val[6:10]), # %Y\n",
    "        int(val[0:2]), # %m\n",
    "        int(val[3:5]), # %d\n",
    "        am_pm(val), # %H\n",
    "        int(val[14:16]), # %M\n",
    "        int(val[17:19])) # %s\n",
    "    else:\n",
    "        return None\n",
    "\n",
    "# short function to convert 12-hour digits to 24-hour datetime\n",
    "def am_pm(val):\n",
    "    if \"PM\" in val[-2:]:\n",
    "        if int(val[11:13]) != 12:\n",
    "            return int(val[11:13])+12\n",
    "        else:\n",
    "            return int(val[11:13])\n",
    "    if \"AM\" in val[-2:]:\n",
    "        if int(val[11:13]) != 12:\n",
    "            return int(val[11:13])\n",
    "        else:\n",
    "            return 0"
   ]
  },
  {
   "cell_type": "code",
   "execution_count": 18,
   "metadata": {
    "collapsed": false,
    "nbpresent": {
     "id": "c0fdd1da-936a-43e1-a6c6-2b0a351ce548"
    }
   },
   "outputs": [
    {
     "name": "stderr",
     "output_type": "stream",
     "text": [
      "/Applications/anaconda2/lib/python2.7/site-packages/ipykernel/__main__.py:2: SettingWithCopyWarning: \n",
      "A value is trying to be set on a copy of a slice from a DataFrame.\n",
      "Try using .loc[row_indexer,col_indexer] = value instead\n",
      "\n",
      "See the caveats in the documentation: http://pandas.pydata.org/pandas-docs/stable/indexing.html#indexing-view-versus-copy\n",
      "  from ipykernel import kernelapp as app\n",
      "/Applications/anaconda2/lib/python2.7/site-packages/ipykernel/__main__.py:3: SettingWithCopyWarning: \n",
      "A value is trying to be set on a copy of a slice from a DataFrame.\n",
      "Try using .loc[row_indexer,col_indexer] = value instead\n",
      "\n",
      "See the caveats in the documentation: http://pandas.pydata.org/pandas-docs/stable/indexing.html#indexing-view-versus-copy\n",
      "  app.launch_new_instance()\n"
     ]
    }
   ],
   "source": [
    "# Parse the dates with our custom converter\n",
    "noise_data[\"Created Date\"] = custom_datetime_lookup(noise_data[\"Created Date\"])\n",
    "noise_data[\"Closed Date\"] = custom_datetime_lookup(noise_data[\"Closed Date\"])"
   ]
  },
  {
   "cell_type": "code",
   "execution_count": 19,
   "metadata": {
    "collapsed": false,
    "nbpresent": {
     "id": "637eb89a-26b4-40ea-9cd4-58d3efb21b93"
    }
   },
   "outputs": [
    {
     "data": {
      "text/html": [
       "<div>\n",
       "<table border=\"1\" class=\"dataframe\">\n",
       "  <thead>\n",
       "    <tr style=\"text-align: right;\">\n",
       "      <th></th>\n",
       "      <th>Unique Key</th>\n",
       "      <th>Created Date</th>\n",
       "      <th>Closed Date</th>\n",
       "      <th>Agency</th>\n",
       "      <th>Agency Name</th>\n",
       "      <th>Complaint Type</th>\n",
       "      <th>Descriptor</th>\n",
       "      <th>Location Type</th>\n",
       "      <th>Incident Zip</th>\n",
       "      <th>Incident Address</th>\n",
       "      <th>...</th>\n",
       "      <th>Bridge Highway Name</th>\n",
       "      <th>Bridge Highway Direction</th>\n",
       "      <th>Road Ramp</th>\n",
       "      <th>Bridge Highway Segment</th>\n",
       "      <th>Garage Lot Name</th>\n",
       "      <th>Ferry Direction</th>\n",
       "      <th>Ferry Terminal Name</th>\n",
       "      <th>Latitude</th>\n",
       "      <th>Longitude</th>\n",
       "      <th>Location</th>\n",
       "    </tr>\n",
       "  </thead>\n",
       "  <tbody>\n",
       "    <tr>\n",
       "      <th>49</th>\n",
       "      <td>30958252</td>\n",
       "      <td>2015-06-28 13:33:13</td>\n",
       "      <td>2015-06-28 13:57:25</td>\n",
       "      <td>NYPD</td>\n",
       "      <td>New York City Police Department</td>\n",
       "      <td>noise - street/sidewalk</td>\n",
       "      <td>Loud Music/Party</td>\n",
       "      <td>Street/Sidewalk</td>\n",
       "      <td>10025</td>\n",
       "      <td>NaN</td>\n",
       "      <td>...</td>\n",
       "      <td>NaN</td>\n",
       "      <td>NaN</td>\n",
       "      <td>NaN</td>\n",
       "      <td>NaN</td>\n",
       "      <td>NaN</td>\n",
       "      <td>NaN</td>\n",
       "      <td>NaN</td>\n",
       "      <td>40.795464</td>\n",
       "      <td>-73.963804</td>\n",
       "      <td>(40.79546400452747, -73.96380430660172)</td>\n",
       "    </tr>\n",
       "    <tr>\n",
       "      <th>116</th>\n",
       "      <td>31059001</td>\n",
       "      <td>2015-07-12 23:12:37</td>\n",
       "      <td>2015-07-12 23:27:14</td>\n",
       "      <td>NYPD</td>\n",
       "      <td>New York City Police Department</td>\n",
       "      <td>noise - commercial</td>\n",
       "      <td>Loud Music/Party</td>\n",
       "      <td>Club/Bar/Restaurant</td>\n",
       "      <td>11372</td>\n",
       "      <td>84-16 NORTHERN BOULEVARD</td>\n",
       "      <td>...</td>\n",
       "      <td>NaN</td>\n",
       "      <td>NaN</td>\n",
       "      <td>NaN</td>\n",
       "      <td>NaN</td>\n",
       "      <td>NaN</td>\n",
       "      <td>NaN</td>\n",
       "      <td>NaN</td>\n",
       "      <td>40.755774</td>\n",
       "      <td>-73.883262</td>\n",
       "      <td>(40.755773786469966, -73.88326243225418)</td>\n",
       "    </tr>\n",
       "    <tr>\n",
       "      <th>118</th>\n",
       "      <td>31061499</td>\n",
       "      <td>2015-07-12 21:40:03</td>\n",
       "      <td>2015-07-13 00:18:58</td>\n",
       "      <td>NYPD</td>\n",
       "      <td>New York City Police Department</td>\n",
       "      <td>noise - commercial</td>\n",
       "      <td>Loud Music/Party</td>\n",
       "      <td>Club/Bar/Restaurant</td>\n",
       "      <td>10012</td>\n",
       "      <td>333 LAFAYETTE STREET</td>\n",
       "      <td>...</td>\n",
       "      <td>NaN</td>\n",
       "      <td>NaN</td>\n",
       "      <td>NaN</td>\n",
       "      <td>NaN</td>\n",
       "      <td>NaN</td>\n",
       "      <td>NaN</td>\n",
       "      <td>NaN</td>\n",
       "      <td>40.725761</td>\n",
       "      <td>-73.994776</td>\n",
       "      <td>(40.725761324016, -73.99477583879312)</td>\n",
       "    </tr>\n",
       "    <tr>\n",
       "      <th>127</th>\n",
       "      <td>31526296</td>\n",
       "      <td>2015-09-13 22:20:37</td>\n",
       "      <td>2015-09-13 22:53:46</td>\n",
       "      <td>NYPD</td>\n",
       "      <td>New York City Police Department</td>\n",
       "      <td>noise - commercial</td>\n",
       "      <td>Loud Music/Party</td>\n",
       "      <td>Club/Bar/Restaurant</td>\n",
       "      <td>11237</td>\n",
       "      <td>140 WILSON AVENUE</td>\n",
       "      <td>...</td>\n",
       "      <td>NaN</td>\n",
       "      <td>NaN</td>\n",
       "      <td>NaN</td>\n",
       "      <td>NaN</td>\n",
       "      <td>NaN</td>\n",
       "      <td>NaN</td>\n",
       "      <td>NaN</td>\n",
       "      <td>40.700623</td>\n",
       "      <td>-73.925595</td>\n",
       "      <td>(40.70062282432436, -73.92559458449325)</td>\n",
       "    </tr>\n",
       "    <tr>\n",
       "      <th>131</th>\n",
       "      <td>31527799</td>\n",
       "      <td>2015-09-13 22:08:39</td>\n",
       "      <td>2015-09-13 23:04:55</td>\n",
       "      <td>NYPD</td>\n",
       "      <td>New York City Police Department</td>\n",
       "      <td>noise - street/sidewalk</td>\n",
       "      <td>Loud Talking</td>\n",
       "      <td>Street/Sidewalk</td>\n",
       "      <td>10452</td>\n",
       "      <td>1214 SHAKESPEARE AVENUE</td>\n",
       "      <td>...</td>\n",
       "      <td>NaN</td>\n",
       "      <td>NaN</td>\n",
       "      <td>NaN</td>\n",
       "      <td>NaN</td>\n",
       "      <td>NaN</td>\n",
       "      <td>NaN</td>\n",
       "      <td>NaN</td>\n",
       "      <td>40.837156</td>\n",
       "      <td>-73.923299</td>\n",
       "      <td>(40.83715568860275, -73.9232988537014)</td>\n",
       "    </tr>\n",
       "  </tbody>\n",
       "</table>\n",
       "<p>5 rows × 53 columns</p>\n",
       "</div>"
      ],
      "text/plain": [
       "     Unique Key        Created Date         Closed Date Agency  \\\n",
       "49     30958252 2015-06-28 13:33:13 2015-06-28 13:57:25   NYPD   \n",
       "116    31059001 2015-07-12 23:12:37 2015-07-12 23:27:14   NYPD   \n",
       "118    31061499 2015-07-12 21:40:03 2015-07-13 00:18:58   NYPD   \n",
       "127    31526296 2015-09-13 22:20:37 2015-09-13 22:53:46   NYPD   \n",
       "131    31527799 2015-09-13 22:08:39 2015-09-13 23:04:55   NYPD   \n",
       "\n",
       "                         Agency Name           Complaint Type  \\\n",
       "49   New York City Police Department  noise - street/sidewalk   \n",
       "116  New York City Police Department       noise - commercial   \n",
       "118  New York City Police Department       noise - commercial   \n",
       "127  New York City Police Department       noise - commercial   \n",
       "131  New York City Police Department  noise - street/sidewalk   \n",
       "\n",
       "           Descriptor        Location Type Incident Zip  \\\n",
       "49   Loud Music/Party      Street/Sidewalk        10025   \n",
       "116  Loud Music/Party  Club/Bar/Restaurant        11372   \n",
       "118  Loud Music/Party  Club/Bar/Restaurant        10012   \n",
       "127  Loud Music/Party  Club/Bar/Restaurant        11237   \n",
       "131      Loud Talking      Street/Sidewalk        10452   \n",
       "\n",
       "             Incident Address                    ...                     \\\n",
       "49                        NaN                    ...                      \n",
       "116  84-16 NORTHERN BOULEVARD                    ...                      \n",
       "118      333 LAFAYETTE STREET                    ...                      \n",
       "127         140 WILSON AVENUE                    ...                      \n",
       "131   1214 SHAKESPEARE AVENUE                    ...                      \n",
       "\n",
       "    Bridge Highway Name Bridge Highway Direction Road Ramp  \\\n",
       "49                  NaN                      NaN       NaN   \n",
       "116                 NaN                      NaN       NaN   \n",
       "118                 NaN                      NaN       NaN   \n",
       "127                 NaN                      NaN       NaN   \n",
       "131                 NaN                      NaN       NaN   \n",
       "\n",
       "    Bridge Highway Segment Garage Lot Name Ferry Direction  \\\n",
       "49                     NaN             NaN             NaN   \n",
       "116                    NaN             NaN             NaN   \n",
       "118                    NaN             NaN             NaN   \n",
       "127                    NaN             NaN             NaN   \n",
       "131                    NaN             NaN             NaN   \n",
       "\n",
       "    Ferry Terminal Name   Latitude  Longitude  \\\n",
       "49                  NaN  40.795464 -73.963804   \n",
       "116                 NaN  40.755774 -73.883262   \n",
       "118                 NaN  40.725761 -73.994776   \n",
       "127                 NaN  40.700623 -73.925595   \n",
       "131                 NaN  40.837156 -73.923299   \n",
       "\n",
       "                                     Location  \n",
       "49    (40.79546400452747, -73.96380430660172)  \n",
       "116  (40.755773786469966, -73.88326243225418)  \n",
       "118     (40.725761324016, -73.99477583879312)  \n",
       "127   (40.70062282432436, -73.92559458449325)  \n",
       "131    (40.83715568860275, -73.9232988537014)  \n",
       "\n",
       "[5 rows x 53 columns]"
      ]
     },
     "execution_count": 19,
     "metadata": {},
     "output_type": "execute_result"
    }
   ],
   "source": [
    "# Now we can select with real time values.\n",
    "# Try some of the following, or create your own!\n",
    "noise_data[noise_data[\"Created Date\"] > \"2015-11-30\"].head()\n",
    "noise_data[noise_data[\"Created Date\"].dt.month > 11].head()\n",
    "noise_data[noise_data[\"Created Date\"].dt.dayofweek == 6].head()"
   ]
  },
  {
   "cell_type": "code",
   "execution_count": 20,
   "metadata": {
    "collapsed": false,
    "nbpresent": {
     "id": "150c5387-0a11-4c5a-a08a-f3a66645f0a5"
    }
   },
   "outputs": [
    {
     "data": {
      "text/plain": [
       "(337976, 53)"
      ]
     },
     "execution_count": 20,
     "metadata": {},
     "output_type": "execute_result"
    }
   ],
   "source": [
    "# Datasets are often messy or incomplete. In this case, several of the rows contain null values.\n",
    "# We can remove those easily with Pandas.\n",
    "noise_data = noise_data.dropna(subset=['Incident Address', 'Latitude', 'Longitude'])\n",
    "\n",
    "noise_data.shape"
   ]
  },
  {
   "cell_type": "code",
   "execution_count": 21,
   "metadata": {
    "collapsed": false,
    "nbpresent": {
     "id": "784b9f87-60ad-46e6-a883-39fb5cfd9cd8"
    }
   },
   "outputs": [
    {
     "name": "stdout",
     "output_type": "stream",
     "text": [
      "(33630, 53) (7390, 53)\n"
     ]
    }
   ],
   "source": [
    "# Finally, let's select midday and midnight complaints only\n",
    "noise_data_midnight = noise_data[noise_data[\"Created Date\"].dt.hour==0]\n",
    "noise_data_noon = noise_data[noise_data[\"Created Date\"].dt.hour==12]\n",
    "\n",
    "print noise_data_midnight.shape, noise_data_noon.shape"
   ]
  },
  {
   "cell_type": "code",
   "execution_count": 22,
   "metadata": {
    "collapsed": false,
    "nbpresent": {
     "id": "8e6792e5-2f5e-49c3-a68c-46e9565bf2de"
    }
   },
   "outputs": [],
   "source": [
    "# Export that data!\n",
    "noise_data_midnight.loc[:,[\"Created Date\",\n",
    "                           \"Agency\",\n",
    "                           \"Complaint Type\",\n",
    "                           \"Latitude\",\n",
    "                           \"Longitude\"]].to_csv(\"noise_midnight.csv\")\n",
    "\n",
    "noise_data_noon.loc[:,[\"Created Date\",\n",
    "                           \"Agency\",\n",
    "                           \"Complaint Type\",\n",
    "                           \"Latitude\",\n",
    "                           \"Longitude\"]].to_csv(\"noise_noon.csv\")"
   ]
  },
  {
   "cell_type": "markdown",
   "metadata": {
    "nbpresent": {
     "id": "9e895caf-ff9e-49ff-979d-da1b8f0ade7c"
    }
   },
   "source": [
    "With your data successfully exported to a smaller CSV, you have a file ready for use in other applications!"
   ]
  },
  {
   "cell_type": "markdown",
   "metadata": {
    "collapsed": false
   },
   "source": [
    "<img src=\"Carto.png\">"
   ]
  },
  {
   "cell_type": "markdown",
   "metadata": {
    "nbpresent": {
     "id": "04a15363-e365-4221-9654-56875acac765"
    }
   },
   "source": [
    "### 5. Optional - Pivots 'n Plotting\n",
    "\n",
    "For the interested, we can use a few more Pandas functions to build some more complex summary datasets. The goal is to make a plot of total noise complaints per hour."
   ]
  },
  {
   "cell_type": "code",
   "execution_count": 24,
   "metadata": {
    "collapsed": false,
    "nbpresent": {
     "id": "0bf21a9d-f9a1-4324-821e-36762975cd79"
    }
   },
   "outputs": [
    {
     "data": {
      "text/html": [
       "<div>\n",
       "<table border=\"1\" class=\"dataframe\">\n",
       "  <thead>\n",
       "    <tr style=\"text-align: right;\">\n",
       "      <th></th>\n",
       "      <th>Hour of Day</th>\n",
       "    </tr>\n",
       "  </thead>\n",
       "  <tbody>\n",
       "    <tr>\n",
       "      <th>3</th>\n",
       "      <td>2015-07-03 02:00:00</td>\n",
       "    </tr>\n",
       "    <tr>\n",
       "      <th>4</th>\n",
       "      <td>2015-07-04 00:00:00</td>\n",
       "    </tr>\n",
       "    <tr>\n",
       "      <th>9</th>\n",
       "      <td>2015-09-09 21:00:00</td>\n",
       "    </tr>\n",
       "    <tr>\n",
       "      <th>14</th>\n",
       "      <td>2015-04-28 18:00:00</td>\n",
       "    </tr>\n",
       "    <tr>\n",
       "      <th>19</th>\n",
       "      <td>2015-05-21 19:00:00</td>\n",
       "    </tr>\n",
       "  </tbody>\n",
       "</table>\n",
       "</div>"
      ],
      "text/plain": [
       "           Hour of Day\n",
       "3  2015-07-03 02:00:00\n",
       "4  2015-07-04 00:00:00\n",
       "9  2015-09-09 21:00:00\n",
       "14 2015-04-28 18:00:00\n",
       "19 2015-05-21 19:00:00"
      ]
     },
     "execution_count": 24,
     "metadata": {},
     "output_type": "execute_result"
    }
   ],
   "source": [
    "# We'll need an additional column with just the hour\n",
    "hour = noise_data[\"Created Date\"].dt.floor(\"60min\").to_frame(\"Hour of Day\")\n",
    "hour.head()"
   ]
  },
  {
   "cell_type": "code",
   "execution_count": 25,
   "metadata": {
    "collapsed": false,
    "nbpresent": {
     "id": "2f85d72d-bcbe-4f34-8106-ba8a4fdd7068"
    }
   },
   "outputs": [
    {
     "data": {
      "text/html": [
       "<div>\n",
       "<table border=\"1\" class=\"dataframe\">\n",
       "  <thead>\n",
       "    <tr style=\"text-align: right;\">\n",
       "      <th></th>\n",
       "      <th>Unique Key</th>\n",
       "      <th>Created Date</th>\n",
       "      <th>Closed Date</th>\n",
       "      <th>Agency</th>\n",
       "      <th>Agency Name</th>\n",
       "      <th>Complaint Type</th>\n",
       "      <th>Descriptor</th>\n",
       "      <th>Location Type</th>\n",
       "      <th>Incident Zip</th>\n",
       "      <th>Incident Address</th>\n",
       "      <th>...</th>\n",
       "      <th>Bridge Highway Direction</th>\n",
       "      <th>Road Ramp</th>\n",
       "      <th>Bridge Highway Segment</th>\n",
       "      <th>Garage Lot Name</th>\n",
       "      <th>Ferry Direction</th>\n",
       "      <th>Ferry Terminal Name</th>\n",
       "      <th>Latitude</th>\n",
       "      <th>Longitude</th>\n",
       "      <th>Location</th>\n",
       "      <th>Hour of Day</th>\n",
       "    </tr>\n",
       "  </thead>\n",
       "  <tbody>\n",
       "    <tr>\n",
       "      <th>3</th>\n",
       "      <td>31000038</td>\n",
       "      <td>2015-07-03 02:18:32</td>\n",
       "      <td>2015-07-03 07:54:48</td>\n",
       "      <td>NYPD</td>\n",
       "      <td>New York City Police Department</td>\n",
       "      <td>noise - commercial</td>\n",
       "      <td>Loud Music/Party</td>\n",
       "      <td>Club/Bar/Restaurant</td>\n",
       "      <td>11372</td>\n",
       "      <td>84-16 NORTHERN BOULEVARD</td>\n",
       "      <td>...</td>\n",
       "      <td>NaN</td>\n",
       "      <td>NaN</td>\n",
       "      <td>NaN</td>\n",
       "      <td>NaN</td>\n",
       "      <td>NaN</td>\n",
       "      <td>NaN</td>\n",
       "      <td>40.755774</td>\n",
       "      <td>-73.883262</td>\n",
       "      <td>(40.755773786469966, -73.88326243225418)</td>\n",
       "      <td>2015-07-03 02:00:00</td>\n",
       "    </tr>\n",
       "    <tr>\n",
       "      <th>4</th>\n",
       "      <td>30995614</td>\n",
       "      <td>2015-07-04 00:03:27</td>\n",
       "      <td>2015-07-04 03:33:09</td>\n",
       "      <td>NYPD</td>\n",
       "      <td>New York City Police Department</td>\n",
       "      <td>noise - street/sidewalk</td>\n",
       "      <td>Loud Talking</td>\n",
       "      <td>Street/Sidewalk</td>\n",
       "      <td>11216</td>\n",
       "      <td>1057 BERGEN STREET</td>\n",
       "      <td>...</td>\n",
       "      <td>NaN</td>\n",
       "      <td>NaN</td>\n",
       "      <td>NaN</td>\n",
       "      <td>NaN</td>\n",
       "      <td>NaN</td>\n",
       "      <td>NaN</td>\n",
       "      <td>40.676175</td>\n",
       "      <td>-73.951269</td>\n",
       "      <td>(40.67617516102934, -73.9512690004692)</td>\n",
       "      <td>2015-07-04 00:00:00</td>\n",
       "    </tr>\n",
       "    <tr>\n",
       "      <th>9</th>\n",
       "      <td>31492526</td>\n",
       "      <td>2015-09-09 21:59:03</td>\n",
       "      <td>2015-09-09 23:17:39</td>\n",
       "      <td>NYPD</td>\n",
       "      <td>New York City Police Department</td>\n",
       "      <td>noise - street/sidewalk</td>\n",
       "      <td>Loud Talking</td>\n",
       "      <td>Street/Sidewalk</td>\n",
       "      <td>11238</td>\n",
       "      <td>238 SAINT JAMES PLACE</td>\n",
       "      <td>...</td>\n",
       "      <td>NaN</td>\n",
       "      <td>NaN</td>\n",
       "      <td>NaN</td>\n",
       "      <td>NaN</td>\n",
       "      <td>NaN</td>\n",
       "      <td>NaN</td>\n",
       "      <td>40.683308</td>\n",
       "      <td>-73.963775</td>\n",
       "      <td>(40.68330795503152, -73.96377504548408)</td>\n",
       "      <td>2015-09-09 21:00:00</td>\n",
       "    </tr>\n",
       "    <tr>\n",
       "      <th>14</th>\n",
       "      <td>30502370</td>\n",
       "      <td>2015-04-28 18:26:58</td>\n",
       "      <td>2015-04-28 19:29:34</td>\n",
       "      <td>NYPD</td>\n",
       "      <td>New York City Police Department</td>\n",
       "      <td>noise - commercial</td>\n",
       "      <td>Car/Truck Music</td>\n",
       "      <td>Store/Commercial</td>\n",
       "      <td>10035</td>\n",
       "      <td>1911 MADISON AVENUE</td>\n",
       "      <td>...</td>\n",
       "      <td>NaN</td>\n",
       "      <td>NaN</td>\n",
       "      <td>NaN</td>\n",
       "      <td>NaN</td>\n",
       "      <td>NaN</td>\n",
       "      <td>NaN</td>\n",
       "      <td>40.804617</td>\n",
       "      <td>-73.941505</td>\n",
       "      <td>(40.80461674564084, -73.9415053197214)</td>\n",
       "      <td>2015-04-28 18:00:00</td>\n",
       "    </tr>\n",
       "    <tr>\n",
       "      <th>19</th>\n",
       "      <td>30668699</td>\n",
       "      <td>2015-05-21 19:01:52</td>\n",
       "      <td>2015-05-21 21:56:29</td>\n",
       "      <td>NYPD</td>\n",
       "      <td>New York City Police Department</td>\n",
       "      <td>noise - street/sidewalk</td>\n",
       "      <td>Loud Talking</td>\n",
       "      <td>Street/Sidewalk</td>\n",
       "      <td>10026</td>\n",
       "      <td>8 WEST 111 STREET</td>\n",
       "      <td>...</td>\n",
       "      <td>NaN</td>\n",
       "      <td>NaN</td>\n",
       "      <td>NaN</td>\n",
       "      <td>NaN</td>\n",
       "      <td>NaN</td>\n",
       "      <td>NaN</td>\n",
       "      <td>40.797731</td>\n",
       "      <td>-73.949399</td>\n",
       "      <td>(40.79773121644539, -73.94939942634502)</td>\n",
       "      <td>2015-05-21 19:00:00</td>\n",
       "    </tr>\n",
       "  </tbody>\n",
       "</table>\n",
       "<p>5 rows × 54 columns</p>\n",
       "</div>"
      ],
      "text/plain": [
       "    Unique Key        Created Date         Closed Date Agency  \\\n",
       "3     31000038 2015-07-03 02:18:32 2015-07-03 07:54:48   NYPD   \n",
       "4     30995614 2015-07-04 00:03:27 2015-07-04 03:33:09   NYPD   \n",
       "9     31492526 2015-09-09 21:59:03 2015-09-09 23:17:39   NYPD   \n",
       "14    30502370 2015-04-28 18:26:58 2015-04-28 19:29:34   NYPD   \n",
       "19    30668699 2015-05-21 19:01:52 2015-05-21 21:56:29   NYPD   \n",
       "\n",
       "                        Agency Name           Complaint Type  \\\n",
       "3   New York City Police Department       noise - commercial   \n",
       "4   New York City Police Department  noise - street/sidewalk   \n",
       "9   New York City Police Department  noise - street/sidewalk   \n",
       "14  New York City Police Department       noise - commercial   \n",
       "19  New York City Police Department  noise - street/sidewalk   \n",
       "\n",
       "          Descriptor        Location Type Incident Zip  \\\n",
       "3   Loud Music/Party  Club/Bar/Restaurant        11372   \n",
       "4       Loud Talking      Street/Sidewalk        11216   \n",
       "9       Loud Talking      Street/Sidewalk        11238   \n",
       "14   Car/Truck Music     Store/Commercial        10035   \n",
       "19      Loud Talking      Street/Sidewalk        10026   \n",
       "\n",
       "            Incident Address         ...         Bridge Highway Direction  \\\n",
       "3   84-16 NORTHERN BOULEVARD         ...                              NaN   \n",
       "4         1057 BERGEN STREET         ...                              NaN   \n",
       "9      238 SAINT JAMES PLACE         ...                              NaN   \n",
       "14       1911 MADISON AVENUE         ...                              NaN   \n",
       "19         8 WEST 111 STREET         ...                              NaN   \n",
       "\n",
       "   Road Ramp Bridge Highway Segment Garage Lot Name Ferry Direction  \\\n",
       "3        NaN                    NaN             NaN             NaN   \n",
       "4        NaN                    NaN             NaN             NaN   \n",
       "9        NaN                    NaN             NaN             NaN   \n",
       "14       NaN                    NaN             NaN             NaN   \n",
       "19       NaN                    NaN             NaN             NaN   \n",
       "\n",
       "   Ferry Terminal Name   Latitude  Longitude  \\\n",
       "3                  NaN  40.755774 -73.883262   \n",
       "4                  NaN  40.676175 -73.951269   \n",
       "9                  NaN  40.683308 -73.963775   \n",
       "14                 NaN  40.804617 -73.941505   \n",
       "19                 NaN  40.797731 -73.949399   \n",
       "\n",
       "                                    Location         Hour of Day  \n",
       "3   (40.755773786469966, -73.88326243225418) 2015-07-03 02:00:00  \n",
       "4     (40.67617516102934, -73.9512690004692) 2015-07-04 00:00:00  \n",
       "9    (40.68330795503152, -73.96377504548408) 2015-09-09 21:00:00  \n",
       "14    (40.80461674564084, -73.9415053197214) 2015-04-28 18:00:00  \n",
       "19   (40.79773121644539, -73.94939942634502) 2015-05-21 19:00:00  \n",
       "\n",
       "[5 rows x 54 columns]"
      ]
     },
     "execution_count": 25,
     "metadata": {},
     "output_type": "execute_result"
    }
   ],
   "source": [
    "# Let's join the column to the rest of the data\n",
    "noise_data_2 = noise_data.join(hour)\n",
    "noise_data_2.head()"
   ]
  },
  {
   "cell_type": "code",
   "execution_count": 26,
   "metadata": {
    "collapsed": false,
    "nbpresent": {
     "id": "0b714e5c-9f22-49c9-b3b6-09f75bded9b2"
    }
   },
   "outputs": [
    {
     "data": {
      "text/html": [
       "<div>\n",
       "<table border=\"1\" class=\"dataframe\">\n",
       "  <thead>\n",
       "    <tr style=\"text-align: right;\">\n",
       "      <th></th>\n",
       "      <th>Borough</th>\n",
       "      <th>Hour of Day</th>\n",
       "    </tr>\n",
       "    <tr>\n",
       "      <th>Hour of Day</th>\n",
       "      <th></th>\n",
       "      <th></th>\n",
       "    </tr>\n",
       "  </thead>\n",
       "  <tbody>\n",
       "    <tr>\n",
       "      <th>2015-01-01 00:00:00</th>\n",
       "      <td>MANHATTAN</td>\n",
       "      <td>117</td>\n",
       "    </tr>\n",
       "    <tr>\n",
       "      <th>2015-01-01 01:00:00</th>\n",
       "      <td>MANHATTAN</td>\n",
       "      <td>123</td>\n",
       "    </tr>\n",
       "    <tr>\n",
       "      <th>2015-01-01 02:00:00</th>\n",
       "      <td>MANHATTAN</td>\n",
       "      <td>148</td>\n",
       "    </tr>\n",
       "    <tr>\n",
       "      <th>2015-01-01 03:00:00</th>\n",
       "      <td>BROOKLYN</td>\n",
       "      <td>101</td>\n",
       "    </tr>\n",
       "    <tr>\n",
       "      <th>2015-01-01 04:00:00</th>\n",
       "      <td>MANHATTAN</td>\n",
       "      <td>121</td>\n",
       "    </tr>\n",
       "  </tbody>\n",
       "</table>\n",
       "</div>"
      ],
      "text/plain": [
       "                       Borough  Hour of Day\n",
       "Hour of Day                                \n",
       "2015-01-01 00:00:00  MANHATTAN          117\n",
       "2015-01-01 01:00:00  MANHATTAN          123\n",
       "2015-01-01 02:00:00  MANHATTAN          148\n",
       "2015-01-01 03:00:00   BROOKLYN          101\n",
       "2015-01-01 04:00:00  MANHATTAN          121"
      ]
     },
     "execution_count": 26,
     "metadata": {},
     "output_type": "execute_result"
    }
   ],
   "source": [
    "# Make a pivot table based on time\n",
    "# Note the aggregation functions - we need one that's counting to get the number of compliants\n",
    "pivot = pd.pivot_table(noise_data_2,\n",
    "                        index = \"Hour of Day\", \n",
    "                        aggfunc={\"Hour of Day\":\"count\",\n",
    "                                 \"Borough\": lambda x:x.value_counts().index[0]}) # Anonymous function\n",
    "\n",
    "pivot.head()"
   ]
  },
  {
   "cell_type": "code",
   "execution_count": 27,
   "metadata": {
    "collapsed": false,
    "nbpresent": {
     "id": "0941c4a8-55fb-4f90-bec1-d0e6e89dadc1"
    }
   },
   "outputs": [
    {
     "data": {
      "text/plain": [
       "<function matplotlib.pyplot.show>"
      ]
     },
     "execution_count": 27,
     "metadata": {},
     "output_type": "execute_result"
    },
    {
     "data": {
      "image/png": "[encoded data removed]",
      "text/plain": [
       "<matplotlib.figure.Figure at 0x1663f20d0>"
      ]
     },
     "metadata": {},
     "output_type": "display_data"
    }
   ],
   "source": [
    "# Bring in the matplotlib plotting library\n",
    "import matplotlib.pyplot as plt\n",
    "%matplotlib inline\n",
    "\n",
    "# Create a figure with size 10 x 10\n",
    "fig = plt.figure(figsize=(10,10))\n",
    "\n",
    "# Create a variable to hold the graph axis\n",
    "ax = fig.add_subplot(1,1,1)\n",
    "\n",
    "# Add graphics to the axis\n",
    "ax.scatter(pivot.index.hour, pivot[\"Hour of Day\"], alpha=0.25, lw=0)\n",
    "ax.plot(range(24), [np.mean(pivot[pivot.index.hour==i][\"Hour of Day\"]) for i in range(24)],\n",
    "        c=\"red\",\n",
    "        lw=2)\n",
    "\n",
    "# Some formatting\n",
    "ax.set_title(\"Hourly number of 311 noise complaints\")\n",
    "ax.set_xlim([-1,24])\n",
    "ax.set_xlabel(\"Hour of day\")\n",
    "ax.set_ylabel(\"Number of complaints\")\n",
    "\n",
    "# Show the result\n",
    "plt.show"
   ]
  },
  {
   "cell_type": "code",
   "execution_count": null,
   "metadata": {
    "collapsed": true
   },
   "outputs": [],
   "source": []
  }
 ],
 "metadata": {
  "anaconda-cloud": {},
  "kernelspec": {
   "display_name": "Python [Root]",
   "language": "python",
   "name": "Python [Root]"
  },
  "language_info": {
   "codemirror_mode": {
    "name": "ipython",
    "version": 2
   },
   "file_extension": ".py",
   "mimetype": "text/x-python",
   "name": "python",
   "nbconvert_exporter": "python",
   "pygments_lexer": "ipython2",
   "version": "2.7.12"
  },
  "nbpresent": {
   "slides": {},
   "themes": {}
  }
 },
 "nbformat": 4,
 "nbformat_minor": 0
}
